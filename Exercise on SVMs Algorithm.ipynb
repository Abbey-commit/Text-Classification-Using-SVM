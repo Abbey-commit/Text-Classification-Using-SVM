{
 "cells": [
  {
   "cell_type": "markdown",
   "metadata": {},
   "source": [
    "### We want to illustrate how a kernel function operates. We make use of a dual cost function that operate on operate on a dot-products of examples with minimal dataset"
   ]
  },
  {
   "cell_type": "code",
   "execution_count": 2,
   "metadata": {},
   "outputs": [
    {
     "name": "stdout",
     "output_type": "stream",
     "text": [
      "Dimensions after expanding: (2, 9)\n",
      "[[ 1  2  3  1  4  9  1  8 27]\n",
      " [27  8  1  9  4  1  3  2  1]]\n"
     ]
    }
   ],
   "source": [
    "import numpy as np\n",
    "\n",
    "X = np.array([[1, 2, 3], [3, 2, 1]])\n",
    "def poly_expansion(A):\n",
    "    return np.array([[x**y for y in \n",
    "                     row for x in row] for row in A])\n",
    "\n",
    "poly_X = poly_expansion(X)\n",
    "print('Dimensions after expanding: %s'\n",
    "     % str(poly_X.shape))\n",
    "print(poly_X)"
   ]
  },
  {
   "cell_type": "code",
   "execution_count": 3,
   "metadata": {},
   "outputs": [
    {
     "data": {
      "text/plain": [
       "126"
      ]
     },
     "execution_count": 3,
     "metadata": {},
     "output_type": "execute_result"
    }
   ],
   "source": [
    "np.dot(poly_X[0], poly_X[1])"
   ]
  },
  {
   "cell_type": "markdown",
   "metadata": {},
   "source": [
    "###### We use the kernel function and call it on the two features."
   ]
  },
  {
   "cell_type": "code",
   "execution_count": 4,
   "metadata": {},
   "outputs": [
    {
     "data": {
      "text/plain": [
       "100"
      ]
     },
     "execution_count": 4,
     "metadata": {},
     "output_type": "execute_result"
    }
   ],
   "source": [
    "def poly_kernel(a, b):\n",
    "    return np.sum(a*b)**2\n",
    "\n",
    "poly_kernel(X[0], X[1])"
   ]
  },
  {
   "cell_type": "markdown",
   "metadata": {},
   "source": [
    "### We work with more complex problem. This section demonstrates a handwritten recognition task and solves the atsk using a nonlinear kernel the RBF. Which learns from the digits dataset available from the module datasets in sklearn."
   ]
  },
  {
   "cell_type": "code",
   "execution_count": 4,
   "metadata": {},
   "outputs": [],
   "source": [
    "import matplotlib.pyplot as plt\n",
    "import matplotlib as mpl\n",
    "from sklearn.datasets import load_digits\n",
    "import numpy as np\n",
    "from sklearn.model_selection import train_test_split\n",
    "from sklearn.model_selection import cross_val_score\n",
    "from sklearn.preprocessing import MinMaxScaler\n",
    "\n",
    "from sklearn.model_selection import GridSearchCV\n",
    "\n",
    "import random"
   ]
  },
  {
   "cell_type": "code",
   "execution_count": 5,
   "metadata": {},
   "outputs": [],
   "source": [
    "digits = load_digits()\n",
    "X, y = digits.data, digits.target"
   ]
  },
  {
   "cell_type": "markdown",
   "metadata": {},
   "source": [
    "##### The code below is aim to display few of the images "
   ]
  },
  {
   "cell_type": "code",
   "execution_count": 6,
   "metadata": {},
   "outputs": [
    {
     "data": {
      "image/png": "[encoded data removed]",
      "text/plain": [
       "<Figure size 432x288 with 10 Axes>"
      ]
     },
     "metadata": {
      "needs_background": "light"
     },
     "output_type": "display_data"
    }
   ],
   "source": [
    "%matplotlib inline\n",
    "random_examples = [random.randint(0, len(digits.images))\n",
    "                  for i in range(10)]\n",
    "for n, num in enumerate(random_examples):\n",
    "    plt.subplot(2, 5, n+1)\n",
    "    plt.imshow(digits.images[num], cmap='binary',\n",
    "              interpolation='none', extent=[0,8,0,8])\n",
    "    plt.grid()\n",
    "plt.show()"
   ]
  },
  {
   "cell_type": "markdown",
   "metadata": {},
   "source": [
    "#### let fit the svm with a nonlinear kernel and use the accuracy score to check the usefulness of the svm representation"
   ]
  },
  {
   "cell_type": "code",
   "execution_count": 8,
   "metadata": {},
   "outputs": [],
   "source": [
    "#We keep %30 random example for test\n",
    "X_train, X_test, y_train, y_test = train_test_split(X, y, \n",
    "                                                   test_size=0.3, random_state=101)\n",
    "\n",
    "# Here, is where the scaling takes place\n",
    "scaling = MinMaxScaler(feature_range=(-1, 1)).fit(X_train)\n",
    "X_train = scaling.transform(X_train)\n",
    "X_test = scaling.transform(X_test)"
   ]
  },
  {
   "cell_type": "code",
   "execution_count": 9,
   "metadata": {},
   "outputs": [],
   "source": [
    "from sklearn.svm import SVC\n",
    "svm = SVC()\n",
    "\n",
    "cv_performance = cross_val_score(svm, X_train, y_train,\n",
    "                                cv=10)\n",
    "\n",
    "test_performance = svm.fit(X_train, y_train).score(X_test,\n",
    "                                                  y_test)"
   ]
  },
  {
   "cell_type": "code",
   "execution_count": 10,
   "metadata": {},
   "outputs": [
    {
     "name": "stdout",
     "output_type": "stream",
     "text": [
      "Cross-validation accuracy score: 0.986,test accuracy score: 0.987\n"
     ]
    }
   ],
   "source": [
    "print('Cross-validation accuracy score: %0.3f,'\n",
    "     'test accuracy score: %0.3f'\n",
    "     % (np.mean(cv_performance), test_performance))"
   ]
  },
  {
   "cell_type": "code",
   "execution_count": 11,
   "metadata": {},
   "outputs": [
    {
     "name": "stdout",
     "output_type": "stream",
     "text": [
      "Best parameter: {'C': 10.0, 'gamma': 0.1, 'kernel': 'rbf'}\n",
      "Cross-validation accuracy score: 0.988, test accuracy score: 0.987\n"
     ]
    }
   ],
   "source": [
    "learning_algo = SVC(kernel='linear', random_state=101)\n",
    "search_space = [{'kernel': ['linear'],\n",
    "                  'C':np.logspace(-3, 3, 7)},\n",
    "                 {'kernel': ['rbf'],\n",
    "                 'C':np.logspace(-3, 3, 7),\n",
    "                 'gamma': np.logspace(-3, 2, 6)}]\n",
    "\n",
    "gridsearch = GridSearchCV(learning_algo,\n",
    "                         param_grid=search_space,\n",
    "                         refit=True, cv=10)\n",
    "\n",
    "gridsearch.fit(X_train, y_train)\n",
    "print('Best parameter: %s'\n",
    "     % str(gridsearch.best_params_))\n",
    "cv_performance = gridsearch.best_score_\n",
    "test_performance = gridsearch.score(X_test, y_test)\n",
    "\n",
    "print('Cross-validation accuracy score: %0.3f,'\n",
    "     ' test accuracy score: %0.3f'\n",
    "     % (cv_performance, test_performance))"
   ]
  },
  {
   "cell_type": "markdown",
   "metadata": {},
   "source": [
    "#### Let's show the number of wrongly predicted times of the SVM attempt"
   ]
  },
  {
   "cell_type": "code",
   "execution_count": 13,
   "metadata": {},
   "outputs": [
    {
     "data": {
      "image/png": "[encoded data removed]",
      "text/plain": [
       "<Figure size 432x288 with 7 Axes>"
      ]
     },
     "metadata": {
      "needs_background": "light"
     },
     "output_type": "display_data"
    }
   ],
   "source": [
    "prediction = gridsearch.predict(X_test)\n",
    "wrong_prediction = (prediction!=y_test)\n",
    "test_digit = scaling.inverse_transform(X_test)\n",
    "for n, (num, yp, yt) in enumerate(zip(\n",
    "    scaling.inverse_transform(X_test)[wrong_prediction],\n",
    "    prediction[wrong_prediction],\n",
    "        y_test[wrong_prediction])):\n",
    "    plt.subplot(2, 5, n+1)\n",
    "    plt.imshow(num.reshape((8,8)), cmap='binary',\n",
    "            interpolation='none',\n",
    "            extent=[0,8,0,8])\n",
    "    plt.title('pred: '+str(yp)+\"!=\"+str(yt))\n",
    "    plt.grid()\n",
    "plt.show()"
   ]
  },
  {
   "cell_type": "code",
   "execution_count": null,
   "metadata": {},
   "outputs": [],
   "source": []
  }
 ],
 "metadata": {
  "kernelspec": {
   "display_name": "Python 3",
   "language": "python",
   "name": "python3"
  },
  "language_info": {
   "codemirror_mode": {
    "name": "ipython",
    "version": 3
   },
   "file_extension": ".py",
   "mimetype": "text/x-python",
   "name": "python",
   "nbconvert_exporter": "python",
   "pygments_lexer": "ipython3",
   "version": "3.7.6"
  }
 },
 "nbformat": 4,
 "nbformat_minor": 4
}
